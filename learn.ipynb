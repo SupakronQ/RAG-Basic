{
 "cells": [
  {
   "cell_type": "code",
   "execution_count": null,
   "id": "a773fee4",
   "metadata": {},
   "outputs": [],
   "source": [
    "from functions.db_util import *\n",
    "from functions.ollama_util import *\n",
    "from functions.trans_formers_util import *\n",
    "from functions.query_builder import QueryBuilder"
   ]
  },
  {
   "cell_type": "code",
   "execution_count": 2,
   "id": "b3db1c9b",
   "metadata": {},
   "outputs": [],
   "source": [
    "conn_info = {\n",
    "    \"dbname\": \"vector_db\",\n",
    "    \"user\": \"admin\",\n",
    "    \"password\": \"1234\",\n",
    "    \"host\": \"localhost\",\n",
    "    \"port\": \"5432\"\n",
    "}\n",
    "\n",
    "db = MyDbConnect(conn_info)"
   ]
  },
  {
   "cell_type": "code",
   "execution_count": 3,
   "id": "1cde9a4f",
   "metadata": {},
   "outputs": [],
   "source": [
    "db.connect()"
   ]
  },
  {
   "cell_type": "markdown",
   "id": "91821938",
   "metadata": {},
   "source": [
    "### set up "
   ]
  },
  {
   "cell_type": "code",
   "execution_count": null,
   "id": "fdf63988",
   "metadata": {},
   "outputs": [],
   "source": [
    "# เพิ่ม extension ให้ pg\n",
    "result, error = db.execute_query(\"Create extension vector;\")"
   ]
  },
  {
   "cell_type": "code",
   "execution_count": null,
   "id": "32a23614",
   "metadata": {},
   "outputs": [],
   "source": [
    "# เพิ่ม vector table \n",
    "result, err = db.execute_query(\"\"\"\n",
    "    create table if not exists documents (\n",
    "        id serial primary key,\n",
    "        content text,\n",
    "        embedding vector(1024)\n",
    "        )\n",
    "    \"\"\")"
   ]
  },
  {
   "cell_type": "markdown",
   "id": "580ba1f0",
   "metadata": {},
   "source": [
    "### Embed"
   ]
  },
  {
   "cell_type": "code",
   "execution_count": 4,
   "id": "dc7e6521",
   "metadata": {},
   "outputs": [],
   "source": [
    "embeder = TransFormersEmbedding(\"BAAI/bge-m3\")"
   ]
  },
  {
   "cell_type": "code",
   "execution_count": null,
   "id": "98290b9f",
   "metadata": {},
   "outputs": [],
   "source": [
    "vec, err = embeder.embedding_text(\"sale_orders เป็นตารางเก็บข้อมูลคำสั่งซื้อ\")"
   ]
  },
  {
   "cell_type": "code",
   "execution_count": null,
   "id": "5d7bd722",
   "metadata": {},
   "outputs": [],
   "source": [
    "mod = {\n",
    "    \"content\": \"sale_orders เป็นตารางเก็บข้อมูลคำสั่งซื้อ\",\n",
    "    \"embedding\": vec\n",
    "}"
   ]
  },
  {
   "cell_type": "code",
   "execution_count": null,
   "id": "cf24f151",
   "metadata": {},
   "outputs": [],
   "source": [
    "QueryBuilder.insert_data_query(\"documents\", data)"
   ]
  }
 ],
 "metadata": {
  "kernelspec": {
   "display_name": "venv",
   "language": "python",
   "name": "python3"
  },
  "language_info": {
   "codemirror_mode": {
    "name": "ipython",
    "version": 3
   },
   "file_extension": ".py",
   "mimetype": "text/x-python",
   "name": "python",
   "nbconvert_exporter": "python",
   "pygments_lexer": "ipython3",
   "version": "3.12.11"
  }
 },
 "nbformat": 4,
 "nbformat_minor": 5
}
