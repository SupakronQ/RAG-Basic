{
 "cells": [
  {
   "cell_type": "code",
   "execution_count": 1,
   "id": "a773fee4",
   "metadata": {},
   "outputs": [
    {
     "name": "stderr",
     "output_type": "stream",
     "text": [
      "c:\\Users\\JourneyQ\\anaconda3\\envs\\ai_agent\\Lib\\site-packages\\tqdm\\auto.py:21: TqdmWarning: IProgress not found. Please update jupyter and ipywidgets. See https://ipywidgets.readthedocs.io/en/stable/user_install.html\n",
      "  from .autonotebook import tqdm as notebook_tqdm\n"
     ]
    }
   ],
   "source": [
    "from functions.db_util import *\n",
    "from functions.ollama_util import *\n",
    "from functions.trans_formers_util import *\n",
    "from functions.query_builder import QueryBuilder"
   ]
  },
  {
   "cell_type": "code",
   "execution_count": 2,
   "id": "b3db1c9b",
   "metadata": {},
   "outputs": [],
   "source": [
    "conn_info = {\n",
    "    \"host\": \"localhost\",  # ไม่ใช่ localhost!\n",
    "    \"port\": \"5432\",\n",
    "    \"user\": \"admin\",\n",
    "    \"password\": \"admin\",\n",
    "    \"dbname\": \"vector_db\"\n",
    "}\n",
    "\n",
    "db = MyDbConnect(conn_info)"
   ]
  },
  {
   "cell_type": "code",
   "execution_count": 4,
   "id": "1cde9a4f",
   "metadata": {},
   "outputs": [],
   "source": [
    "db.connect()"
   ]
  },
  {
   "cell_type": "markdown",
   "id": "91821938",
   "metadata": {},
   "source": [
    "### set up "
   ]
  },
  {
   "cell_type": "markdown",
   "id": "f02e9cdb",
   "metadata": {},
   "source": [
    "docker run -d --name pgvector-db -e POSTGRES_USER=admin -e POSTGRES_PASSWORD=admin -e POSTGRES_DB=vector_db -v pgvector_data:/var/lib/postgresql/data -p 5432:5432 pgvector/pgvector:pg17"
   ]
  },
  {
   "cell_type": "code",
   "execution_count": 4,
   "id": "fdf63988",
   "metadata": {},
   "outputs": [],
   "source": [
    "# เพิ่ม extension ให้ pg\n",
    "result, error = db.execute(\"Create extension vector;\")"
   ]
  },
  {
   "cell_type": "code",
   "execution_count": 7,
   "id": "32a23614",
   "metadata": {},
   "outputs": [],
   "source": [
    "# เพิ่ม vector table \n",
    "result, err = db.execute(\"\"\"\n",
    "    create table if not exists documents (\n",
    "        id serial primary key,\n",
    "        content text,\n",
    "        embedding vector(1024)\n",
    "        )\n",
    "    \"\"\")"
   ]
  },
  {
   "cell_type": "code",
   "execution_count": 8,
   "id": "ed836707",
   "metadata": {},
   "outputs": [],
   "source": [
    "db.commit()"
   ]
  },
  {
   "cell_type": "markdown",
   "id": "580ba1f0",
   "metadata": {},
   "source": [
    "### Embed"
   ]
  },
  {
   "cell_type": "code",
   "execution_count": 5,
   "id": "dc7e6521",
   "metadata": {},
   "outputs": [],
   "source": [
    "embeder = TransFormersEmbedding(\"BAAI/bge-m3\")"
   ]
  },
  {
   "cell_type": "code",
   "execution_count": 8,
   "id": "98290b9f",
   "metadata": {},
   "outputs": [],
   "source": [
    "text = \"sale_items เป็นตารางเก็บข้อมูลรายการสินค้าในคำสั่งซื้อ\"\n",
    "vec, err = embeder.embedding_text(text)"
   ]
  },
  {
   "cell_type": "code",
   "execution_count": 9,
   "id": "5d7bd722",
   "metadata": {},
   "outputs": [],
   "source": [
    "mod = [{\n",
    "    \"content\": text,\n",
    "    \"embedding\": vec.tolist()\n",
    "}]"
   ]
  },
  {
   "cell_type": "code",
   "execution_count": 10,
   "id": "cf24f151",
   "metadata": {},
   "outputs": [],
   "source": [
    "sql, val = QueryBuilder.insert_data_query(\"documents\", mod)"
   ]
  },
  {
   "cell_type": "code",
   "execution_count": 11,
   "id": "f8644fc1",
   "metadata": {},
   "outputs": [
    {
     "data": {
      "text/plain": [
       "(1, None)"
      ]
     },
     "execution_count": 11,
     "metadata": {},
     "output_type": "execute_result"
    }
   ],
   "source": [
    "db.executemany(sql, val)"
   ]
  },
  {
   "cell_type": "code",
   "execution_count": 12,
   "id": "4ef65bf0",
   "metadata": {},
   "outputs": [],
   "source": [
    "db.commit()"
   ]
  },
  {
   "cell_type": "code",
   "execution_count": 13,
   "id": "4af50e8e",
   "metadata": {},
   "outputs": [],
   "source": [
    "db.connect()"
   ]
  },
  {
   "cell_type": "markdown",
   "id": "226470ac",
   "metadata": {},
   "source": [
    "### SEARCH"
   ]
  },
  {
   "cell_type": "code",
   "execution_count": 14,
   "id": "27840323",
   "metadata": {},
   "outputs": [],
   "source": [
    "def search_similarity_text(db, embeder, text, r):\n",
    "\n",
    "    try :\n",
    "        vec, err = embeder.embedding_text(text)\n",
    "\n",
    "        query_vec_str = \"[\" + \", \".join(map(str, vec)) + \"]\"\n",
    "\n",
    "        sql_query = QueryBuilder.vector_search()\n",
    "\n",
    "        res, err = db.execute(sql_query, params=(query_vec_str, r))\n",
    "        if err :\n",
    "            raise Exception(err)\n",
    "        \n",
    "        return res, None\n",
    "    except Exception as err :\n",
    "        return None, err\n",
    "    "
   ]
  },
  {
   "cell_type": "code",
   "execution_count": 16,
   "id": "72b6d75e",
   "metadata": {},
   "outputs": [],
   "source": [
    "db.connect()\n",
    "\n",
    "text = \"คำสั่งซื้อดูได้ที่ตารางไหน\"\n",
    "\n",
    "res, err = search_similarity_text(db, embeder, text, 5)\n",
    "\n",
    "db.disconnect()"
   ]
  },
  {
   "cell_type": "markdown",
   "id": "f9139e0f",
   "metadata": {},
   "source": [
    "### RAG"
   ]
  },
  {
   "cell_type": "code",
   "execution_count": null,
   "id": "e4db45d2",
   "metadata": {},
   "outputs": [],
   "source": [
    "def RAG_chat(db, embeder , model, text, k=5):\n",
    "\n",
    "    try:\n",
    "        res, err = search_similarity_text(db, embeder, text, k)\n",
    "        if err :\n",
    "            raise Exception(err)\n",
    "        \n",
    "        context = \"\\n\".join( [data[0] for data in res])\n",
    "        prompt = f\"\"\"\n",
    "            Answer the question based on the following context :\\n\n",
    "            ```\\n\n",
    "            {context}\n",
    "            ```\\n\n",
    "            Question: {text}\n",
    "        \"\"\"\n",
    "        ans = model.send_user_prompt(prompt)\n",
    "        \n",
    "        return ans\n",
    "    except Exception as err:\n",
    "        return None, err\n"
   ]
  },
  {
   "cell_type": "code",
   "execution_count": 42,
   "id": "1259057e",
   "metadata": {},
   "outputs": [],
   "source": [
    "chat_model = OllamaChatClient(\"gemma3:latest\")\n",
    "chat_model.set_system_prompt(\"คุณคือผู้เชียวชาญด้านการตอบคำถามจากข้อมูลที่มี ถ้าไม่มีคุณจะตอบว่า 'กรรมไม่รู้แหะ'\")"
   ]
  },
  {
   "cell_type": "code",
   "execution_count": 58,
   "id": "17dda1bb",
   "metadata": {},
   "outputs": [
    {
     "name": "stdout",
     "output_type": "stream",
     "text": [
      "กรรมไม่รู้แหะ\n",
      "\n"
     ]
    }
   ],
   "source": [
    "text = \"คุณรู้อะไรบ้าง\"\n",
    "db.connect()\n",
    "ans = RAG_chat(db, embeder , chat_model, text, k=5)\n",
    "print(ans)\n",
    "db.disconnect()"
   ]
  },
  {
   "cell_type": "code",
   "execution_count": null,
   "id": "dbd7e472",
   "metadata": {},
   "outputs": [],
   "source": []
  },
  {
   "cell_type": "code",
   "execution_count": 29,
   "id": "f91cb7b6",
   "metadata": {},
   "outputs": [
    {
     "data": {
      "text/plain": [
       "(None, TypeError(\"string indices must be integers, not 'str'\"))"
      ]
     },
     "execution_count": 29,
     "metadata": {},
     "output_type": "execute_result"
    }
   ],
   "source": [
    "ans"
   ]
  },
  {
   "cell_type": "code",
   "execution_count": null,
   "id": "69626efd",
   "metadata": {},
   "outputs": [],
   "source": []
  }
 ],
 "metadata": {
  "kernelspec": {
   "display_name": "ai_agent",
   "language": "python",
   "name": "python3"
  },
  "language_info": {
   "codemirror_mode": {
    "name": "ipython",
    "version": 3
   },
   "file_extension": ".py",
   "mimetype": "text/x-python",
   "name": "python",
   "nbconvert_exporter": "python",
   "pygments_lexer": "ipython3",
   "version": "3.12.11"
  }
 },
 "nbformat": 4,
 "nbformat_minor": 5
}
